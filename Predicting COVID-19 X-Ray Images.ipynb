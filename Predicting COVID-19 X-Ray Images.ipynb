{
 "cells": [
  {
   "cell_type": "markdown",
   "metadata": {},
   "source": [
    "#### Predicting X_Ray images using Keras"
   ]
  },
  {
   "cell_type": "code",
   "execution_count": 1,
   "metadata": {},
   "outputs": [
    {
     "name": "stderr",
     "output_type": "stream",
     "text": [
      "Using TensorFlow backend.\n"
     ]
    }
   ],
   "source": [
    "import keras\n",
    "import numpy as np\n",
    "import matplotlib.pyplot as plt\n",
    "import sklearn\n",
    "import pandas as  pd\n",
    "import tqdm\n",
    "import os, shutil\n",
    "from tqdm import tqdm"
   ]
  },
  {
   "cell_type": "code",
   "execution_count": 2,
   "metadata": {},
   "outputs": [],
   "source": [
    "# Load the data directory\n",
    "data = 'C:/Users/ADEMOLA/Documents/AYOBAMI_DOCUMENT/Computer Programming/Data Science/Machine_Learning+Data_Science_NLP/ZINDI DATA SCIENCE COMPETITIONS/DATASETS/keras-covid-19/dataset'\n",
    "data_covid = os.path.join(data, 'covid')\n",
    "data_normal = os.path.join(data, 'normal')\n",
    "\n",
    "test = 'C:/Users/ADEMOLA/Documents/AYOBAMI_DOCUMENT/Computer Programming/Data Science/Machine_Learning+Data_Science_NLP/ZINDI DATA SCIENCE COMPETITIONS/DATASETS/keras-covid-19/test'\n",
    "test_covid = os.path.join(test, 'covid')\n",
    "test_normal = os.path.join(test, 'normal')"
   ]
  },
  {
   "cell_type": "code",
   "execution_count": 3,
   "metadata": {},
   "outputs": [
    {
     "name": "stdout",
     "output_type": "stream",
     "text": [
      "Found 40 images belonging to 2 classes.\n",
      "Found 10 images belonging to 2 classes.\n"
     ]
    }
   ],
   "source": [
    "# Data Processing\n",
    "from keras.preprocessing.image import ImageDataGenerator\n",
    "datagen = ImageDataGenerator(rescale=1/.255)\n",
    "train_generator = datagen.flow_from_directory(data, target_size=(150,150), batch_size=1, class_mode='binary')\n",
    "test_generator = datagen.flow_from_directory(test, target_size=(150,150), batch_size=1, class_mode='binary')"
   ]
  },
  {
   "cell_type": "code",
   "execution_count": 4,
   "metadata": {},
   "outputs": [],
   "source": [
    "# Transfer Learning\n",
    "from keras.applications import DenseNet121\n",
    "conv_base = DenseNet121(weights='densenet121_weights_tf_dim_ordering_tf_kernels_notop.h5', include_top=False, input_shape=(150,150,3))"
   ]
  },
  {
   "cell_type": "code",
   "execution_count": 5,
   "metadata": {},
   "outputs": [],
   "source": [
    "import os\n",
    "import numpy as np\n",
    "from keras.preprocessing.image import ImageDataGenerator\n",
    "\n",
    "datagen = ImageDataGenerator(rescale=1./255)\n",
    "batch_size=1\n",
    "def extract_features(directory, sample_count):\n",
    "    features = np.zeros(shape=(sample_count, 4, 4, 1024))\n",
    "    labels = np.zeros(shape=(sample_count))\n",
    "    generator = datagen.flow_from_directory(directory, target_size=(150, 150), batch_size=batch_size, class_mode='binary')\n",
    "    i = 0\n",
    "    for inputs_batch, labels_batch in generator:\n",
    "        features_batch = conv_base.predict(inputs_batch)\n",
    "        features[i * batch_size : (i + 1) * batch_size] = features_batch\n",
    "        labels[i * batch_size : (i + 1) * batch_size] = labels_batch\n",
    "        i += 1\n",
    "        if i * batch_size >= sample_count:\n",
    "            break\n",
    "    return features, labels"
   ]
  },
  {
   "cell_type": "code",
   "execution_count": 6,
   "metadata": {},
   "outputs": [
    {
     "name": "stdout",
     "output_type": "stream",
     "text": [
      "Found 40 images belonging to 2 classes.\n",
      "Found 10 images belonging to 2 classes.\n"
     ]
    }
   ],
   "source": [
    "train_features, train_labels = extract_features(data, 40)\n",
    "test_features, test_labels = extract_features(test, 10)"
   ]
  },
  {
   "cell_type": "code",
   "execution_count": 7,
   "metadata": {},
   "outputs": [],
   "source": [
    "train_features = np.reshape(train_features, (40, 4 * 4 * 1024))\n",
    "test_features = np.reshape(test_features, (10, 4 * 4 * 1024))"
   ]
  },
  {
   "cell_type": "code",
   "execution_count": 8,
   "metadata": {},
   "outputs": [],
   "source": [
    "# Classifier\n",
    "from keras import models, layers\n",
    "model = models.Sequential()\n",
    "model.add(layers.Dense(32, activation='relu', input_shape=(4*4*1024,)))\n",
    "model.add(layers.Dense(64, activation='relu'))\n",
    "model.add(layers.Dropout(0.5))\n",
    "model.add(layers.Dense(1, activation='sigmoid'))"
   ]
  },
  {
   "cell_type": "code",
   "execution_count": 10,
   "metadata": {},
   "outputs": [
    {
     "name": "stdout",
     "output_type": "stream",
     "text": [
      "Train on 40 samples, validate on 10 samples\n",
      "Epoch 1/20\n",
      "40/40 [==============================] - 0s 7ms/step - loss: 0.8819 - acc: 0.8250 - val_loss: 1.1072 - val_acc: 0.5000\n",
      "Epoch 2/20\n",
      "40/40 [==============================] - 0s 781us/step - loss: 2.0673 - acc: 0.6250 - val_loss: 0.0880 - val_acc: 1.0000\n",
      "Epoch 3/20\n",
      "40/40 [==============================] - 0s 781us/step - loss: 0.5698 - acc: 0.8000 - val_loss: 0.1404 - val_acc: 0.9000\n",
      "Epoch 4/20\n",
      "40/40 [==============================] - 0s 944us/step - loss: 0.5641 - acc: 0.7750 - val_loss: 0.1870 - val_acc: 0.9000\n",
      "Epoch 5/20\n",
      "40/40 [==============================] - 0s 781us/step - loss: 0.5197 - acc: 0.8000 - val_loss: 0.0311 - val_acc: 1.0000\n",
      "Epoch 6/20\n",
      "40/40 [==============================] - 0s 781us/step - loss: 0.1676 - acc: 0.9500 - val_loss: 0.0117 - val_acc: 1.0000\n",
      "Epoch 7/20\n",
      "40/40 [==============================] - 0s 781us/step - loss: 0.1941 - acc: 0.9250 - val_loss: 0.0179 - val_acc: 1.0000\n",
      "Epoch 8/20\n",
      "40/40 [==============================] - 0s 781us/step - loss: 0.1360 - acc: 0.9500 - val_loss: 0.0156 - val_acc: 1.0000\n",
      "Epoch 9/20\n",
      "40/40 [==============================] - 0s 553us/step - loss: 0.0172 - acc: 1.0000 - val_loss: 0.0133 - val_acc: 1.0000\n",
      "Epoch 10/20\n",
      "40/40 [==============================] - 0s 781us/step - loss: 0.1254 - acc: 0.9500 - val_loss: 0.0076 - val_acc: 1.0000\n",
      "Epoch 11/20\n",
      "40/40 [==============================] - 0s 781us/step - loss: 0.3287 - acc: 0.9000 - val_loss: 0.0099 - val_acc: 1.0000\n",
      "Epoch 12/20\n",
      "40/40 [==============================] - 0s 554us/step - loss: 0.0462 - acc: 0.9750 - val_loss: 0.0238 - val_acc: 1.0000\n",
      "Epoch 13/20\n",
      "40/40 [==============================] - 0s 781us/step - loss: 0.0568 - acc: 1.0000 - val_loss: 0.0242 - val_acc: 1.0000\n",
      "Epoch 14/20\n",
      "40/40 [==============================] - 0s 944us/step - loss: 0.2546 - acc: 0.9250 - val_loss: 0.0157 - val_acc: 1.0000\n",
      "Epoch 15/20\n",
      "40/40 [==============================] - 0s 1ms/step - loss: 0.0556 - acc: 1.0000 - val_loss: 0.0077 - val_acc: 1.0000\n",
      "Epoch 16/20\n",
      "40/40 [==============================] - 0s 781us/step - loss: 0.1668 - acc: 0.9000 - val_loss: 0.0317 - val_acc: 1.0000\n",
      "Epoch 17/20\n",
      "40/40 [==============================] - 0s 944us/step - loss: 0.1076 - acc: 0.9750 - val_loss: 0.0233 - val_acc: 1.0000\n",
      "Epoch 18/20\n",
      "40/40 [==============================] - 0s 781us/step - loss: 0.1048 - acc: 0.9750 - val_loss: 0.0186 - val_acc: 1.0000\n",
      "Epoch 19/20\n",
      "40/40 [==============================] - 0s 944us/step - loss: 0.0758 - acc: 0.9750 - val_loss: 0.0017 - val_acc: 1.0000\n",
      "Epoch 20/20\n",
      "40/40 [==============================] - 0s 781us/step - loss: 0.0222 - acc: 1.0000 - val_loss: 7.4799e-04 - val_acc: 1.0000\n"
     ]
    }
   ],
   "source": [
    "# Compile the model\n",
    "model.compile(loss='binary_crossentropy', optimizer='rmsprop', metrics=['acc'])\n",
    "\n",
    "# Fit the model\n",
    "history = model.fit(train_features, train_labels, epochs=20, validation_data=(test_features, test_labels))"
   ]
  },
  {
   "cell_type": "code",
   "execution_count": 15,
   "metadata": {},
   "outputs": [
    {
     "data": {
      "image/png": "[encoded data removed]",
      "text/plain": [
       "<Figure size 432x288 with 1 Axes>"
      ]
     },
     "metadata": {
      "needs_background": "light"
     },
     "output_type": "display_data"
    }
   ],
   "source": [
    "import matplotlib.pyplot as plt\n",
    "acc = history.history['acc']\n",
    "val_acc = history.history['val_acc']\n",
    "loss = history.history['loss']\n",
    "val_loss = history.history['val_loss']\n",
    "\n",
    "epochs = range(1, len(acc)+1)\n",
    "\n",
    "plt.plot(epochs, acc, 'bo', label='Training acc')\n",
    "plt.plot(epochs, val_acc, 'b', label='Val acc')\n",
    "plt.plot(epochs, loss, '--', label='Loss')\n",
    "plt.plot(epochs, val_loss, 'x', label='Val loss')\n",
    "plt.title('Training and Validation accuracy')\n",
    "plt.legend(loc='best')\n",
    "plt.savefig('Metrics.png', bbox_inches='tight')"
   ]
  },
  {
   "cell_type": "code",
   "execution_count": 1,
   "metadata": {},
   "outputs": [
    {
     "name": "stderr",
     "output_type": "stream",
     "text": [
      "Using TensorFlow backend.\n"
     ]
    }
   ],
   "source": [
    "import keras\n",
    "import numpy as np\n",
    "import matplotlib.pyplot as plt\n",
    "import sklearn\n",
    "import pandas as  pd\n",
    "import tqdm\n",
    "import os, shutil\n",
    "from tqdm import tqdm"
   ]
  },
  {
   "cell_type": "code",
   "execution_count": 2,
   "metadata": {},
   "outputs": [],
   "source": [
    "# Load the data directory\n",
    "data = 'C:/Users/ADEMOLA/Documents/AYOBAMI_DOCUMENT/Computer Programming/Data Science/Machine_Learning+Data_Science_NLP/ZINDI DATA SCIENCE COMPETITIONS/DATASETS/keras-covid-19/dataset'\n",
    "data_covid = os.path.join(data, 'covid')\n",
    "data_normal = os.path.join(data, 'normal')\n",
    "\n",
    "test = 'C:/Users/ADEMOLA/Documents/AYOBAMI_DOCUMENT/Computer Programming/Data Science/Machine_Learning+Data_Science_NLP/ZINDI DATA SCIENCE COMPETITIONS/DATASETS/keras-covid-19/test'\n",
    "test_covid = os.path.join(test, 'covid')\n",
    "test_normal = os.path.join(test, 'normal')"
   ]
  },
  {
   "cell_type": "code",
   "execution_count": 4,
   "metadata": {},
   "outputs": [],
   "source": [
    "# Transfer Learning\n",
    "from keras.applications import DenseNet121\n",
    "conv_base = DenseNet121(weights='densenet121_weights_tf_dim_ordering_tf_kernels_notop.h5', include_top=False, input_shape=(150,150,3))"
   ]
  },
  {
   "cell_type": "code",
   "execution_count": 7,
   "metadata": {},
   "outputs": [],
   "source": [
    "from keras import layers, models\n",
    "model = models.Sequential()\n",
    "model.add(conv_base)\n",
    "model.add(layers.Flatten())\n",
    "model.add(layers.Dense(256, activation='relu'))\n",
    "model.add(layers.Dense(1 , activation='sigmoid'))"
   ]
  },
  {
   "cell_type": "code",
   "execution_count": 9,
   "metadata": {},
   "outputs": [],
   "source": [
    "conv_base.trainanble = False"
   ]
  },
  {
   "cell_type": "code",
   "execution_count": 14,
   "metadata": {},
   "outputs": [
    {
     "name": "stdout",
     "output_type": "stream",
     "text": [
      "Found 40 images belonging to 2 classes.\n",
      "Found 10 images belonging to 2 classes.\n"
     ]
    }
   ],
   "source": [
    "from keras.preprocessing.image import ImageDataGenerator\n",
    "from keras import optimizers\n",
    "\n",
    "train_datagen = ImageDataGenerator(rescale=1./255,\n",
    "                                   rotation_range=40,\n",
    "                                  width_shift_range=0.2,\n",
    "                                   height_shift_range=0.2,\n",
    "                                   shear_range=0.2, zoom_range=0.2,\n",
    "                                   horizontal_flip=True, fill_mode='nearest')\n",
    "test_datagen = ImageDataGenerator(rescale=1./255)\n",
    "\n",
    "train_generator = train_datagen.flow_from_directory(data, target_size=(150,150),\n",
    "                                                     batch_size=10, class_mode='binary')\n",
    "test_generator = test_datagen.flow_from_directory(test, target_size=(150,150,3), batch_size=1, class_mode='binary')\n",
    "model.compile(loss='binary_crossentropy', optimizer = optimizers.RMSprop(lr=2e-5), metrics=['acc'])"
   ]
  },
  {
   "cell_type": "code",
   "execution_count": null,
   "metadata": {},
   "outputs": [],
   "source": [
    "history = model.fit_generator(train_generator, steps_per_epoch=2, epochs=30, validation_data=test_generator)"
   ]
  },
  {
   "cell_type": "code",
   "execution_count": null,
   "metadata": {},
   "outputs": [],
   "source": []
  }
 ],
 "metadata": {
  "kernelspec": {
   "display_name": "Python 3",
   "language": "python",
   "name": "python3"
  },
  "language_info": {
   "codemirror_mode": {
    "name": "ipython",
    "version": 3
   },
   "file_extension": ".py",
   "mimetype": "text/x-python",
   "name": "python",
   "nbconvert_exporter": "python",
   "pygments_lexer": "ipython3",
   "version": "3.7.6"
  }
 },
 "nbformat": 4,
 "nbformat_minor": 4
}
